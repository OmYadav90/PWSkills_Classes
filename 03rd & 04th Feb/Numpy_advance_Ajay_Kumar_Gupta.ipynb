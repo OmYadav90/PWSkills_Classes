{
  "cells": [
    {
      "cell_type": "code",
      "execution_count": null,
      "id": "6d2c5c80",
      "metadata": {
        "id": "6d2c5c80"
      },
      "outputs": [],
      "source": [
        "import numpy as np\n",
        "arr = np.ones((3, 4))"
      ]
    },
    {
      "cell_type": "code",
      "execution_count": null,
      "id": "0cf245ff",
      "metadata": {
        "id": "0cf245ff",
        "outputId": "d5541354-f334-482a-d197-30a5c203cc6b"
      },
      "outputs": [
        {
          "data": {
            "text/plain": [
              "array([[1., 1., 1., 1.],\n",
              "       [1., 1., 1., 1.],\n",
              "       [1., 1., 1., 1.]])"
            ]
          },
          "execution_count": 4,
          "metadata": {},
          "output_type": "execute_result"
        }
      ],
      "source": [
        "arr"
      ]
    },
    {
      "cell_type": "code",
      "execution_count": null,
      "id": "3e3453da",
      "metadata": {
        "id": "3e3453da",
        "outputId": "a19859f8-478a-4234-e14c-5640868e96fc"
      },
      "outputs": [
        {
          "data": {
            "text/plain": [
              "array([[6., 6., 6., 6.],\n",
              "       [6., 6., 6., 6.],\n",
              "       [6., 6., 6., 6.]])"
            ]
          },
          "execution_count": 5,
          "metadata": {},
          "output_type": "execute_result"
        }
      ],
      "source": [
        "arr + 5"
      ]
    },
    {
      "cell_type": "code",
      "execution_count": null,
      "id": "d8ee1828",
      "metadata": {
        "id": "d8ee1828",
        "outputId": "61ee00d5-4483-44f6-9361-79e925aebc93"
      },
      "outputs": [
        {
          "data": {
            "text/plain": [
              "array([[5., 5., 5., 5.],\n",
              "       [5., 5., 5., 5.],\n",
              "       [5., 5., 5., 5.]])"
            ]
          },
          "execution_count": 6,
          "metadata": {},
          "output_type": "execute_result"
        }
      ],
      "source": [
        "arr*5"
      ]
    },
    {
      "cell_type": "code",
      "execution_count": null,
      "id": "780a18b9",
      "metadata": {
        "id": "780a18b9",
        "outputId": "53cf7257-05fc-4358-a6a1-f65af4de7e33"
      },
      "outputs": [
        {
          "data": {
            "text/plain": [
              "array([[5., 5., 5., 5.],\n",
              "       [5., 5., 5., 5.],\n",
              "       [5., 5., 5., 5.]])"
            ]
          },
          "execution_count": 15,
          "metadata": {},
          "output_type": "execute_result"
        }
      ],
      "source": [
        "np.empty((3, 4))"
      ]
    },
    {
      "cell_type": "code",
      "execution_count": null,
      "id": "5276a22f",
      "metadata": {
        "id": "5276a22f",
        "outputId": "ce49da35-b6be-4a52-ebcf-a820ec65b6e0"
      },
      "outputs": [
        {
          "data": {
            "text/plain": [
              "array([[1, 0, 0],\n",
              "       [0, 1, 0],\n",
              "       [0, 0, 1]])"
            ]
          },
          "execution_count": 22,
          "metadata": {},
          "output_type": "execute_result"
        }
      ],
      "source": [
        "np.eye(3, dtype = int) #n*n matrix #tO calculate inverse of matroix"
      ]
    },
    {
      "cell_type": "code",
      "execution_count": null,
      "id": "fa09cc61",
      "metadata": {
        "id": "fa09cc61",
        "outputId": "8f8bab81-432b-48b3-827f-517fd00b18c8"
      },
      "outputs": [
        {
          "data": {
            "text/plain": [
              "array([[1., 1., 1., 1.],\n",
              "       [1., 1., 1., 1.],\n",
              "       [1., 1., 1., 1.]])"
            ]
          },
          "execution_count": 23,
          "metadata": {},
          "output_type": "execute_result"
        }
      ],
      "source": [
        "arr"
      ]
    },
    {
      "cell_type": "code",
      "execution_count": null,
      "id": "cf144ec0",
      "metadata": {
        "id": "cf144ec0",
        "outputId": "b4b52f7c-b686-47a5-d04f-e1f43a25efc5"
      },
      "outputs": [
        {
          "data": {
            "text/html": [
              "<div>\n",
              "<style scoped>\n",
              "    .dataframe tbody tr th:only-of-type {\n",
              "        vertical-align: middle;\n",
              "    }\n",
              "\n",
              "    .dataframe tbody tr th {\n",
              "        vertical-align: top;\n",
              "    }\n",
              "\n",
              "    .dataframe thead th {\n",
              "        text-align: right;\n",
              "    }\n",
              "</style>\n",
              "<table border=\"1\" class=\"dataframe\">\n",
              "  <thead>\n",
              "    <tr style=\"text-align: right;\">\n",
              "      <th></th>\n",
              "      <th>0</th>\n",
              "      <th>1</th>\n",
              "      <th>2</th>\n",
              "      <th>3</th>\n",
              "    </tr>\n",
              "  </thead>\n",
              "  <tbody>\n",
              "    <tr>\n",
              "      <th>0</th>\n",
              "      <td>1.0</td>\n",
              "      <td>1.0</td>\n",
              "      <td>1.0</td>\n",
              "      <td>1.0</td>\n",
              "    </tr>\n",
              "    <tr>\n",
              "      <th>1</th>\n",
              "      <td>1.0</td>\n",
              "      <td>1.0</td>\n",
              "      <td>1.0</td>\n",
              "      <td>1.0</td>\n",
              "    </tr>\n",
              "    <tr>\n",
              "      <th>2</th>\n",
              "      <td>1.0</td>\n",
              "      <td>1.0</td>\n",
              "      <td>1.0</td>\n",
              "      <td>1.0</td>\n",
              "    </tr>\n",
              "  </tbody>\n",
              "</table>\n",
              "</div>"
            ],
            "text/plain": [
              "     0    1    2    3\n",
              "0  1.0  1.0  1.0  1.0\n",
              "1  1.0  1.0  1.0  1.0\n",
              "2  1.0  1.0  1.0  1.0"
            ]
          },
          "execution_count": 24,
          "metadata": {},
          "output_type": "execute_result"
        }
      ],
      "source": [
        "#optional\n",
        "\n",
        "import pandas as pd\n",
        "pd.DataFrame(arr)"
      ]
    },
    {
      "cell_type": "code",
      "execution_count": null,
      "id": "09bf2be2",
      "metadata": {
        "id": "09bf2be2",
        "outputId": "57c295de-1cac-4b1d-bd59-52fc9338e20f"
      },
      "outputs": [
        {
          "data": {
            "text/plain": [
              "'j'"
            ]
          },
          "execution_count": 43,
          "metadata": {},
          "output_type": "execute_result"
        }
      ],
      "source": [
        "#extra topics\n",
        "import random\n",
        "random.choice((1, 2, 3, 4, 5, 6))\n",
        "\n",
        "random.choice('Ajay')\n",
        "random.randrange(1, 10)\n",
        "random.random() # a random no is generated between o (included), 1 will be excluded\n",
        "\n",
        "lis = [1, 2, 3, 4, 5]\n",
        "random.shuffle(lis)\n",
        "\n",
        "random.uniform(7, 14) #a no between 7 and 14"
      ]
    },
    {
      "cell_type": "code",
      "execution_count": null,
      "id": "8c35d578",
      "metadata": {
        "id": "8c35d578"
      },
      "outputs": [],
      "source": [
        "np.array([])"
      ]
    },
    {
      "cell_type": "code",
      "execution_count": null,
      "id": "1112871e",
      "metadata": {
        "id": "1112871e",
        "outputId": "a3335419-fa21-4bd2-9f11-3d4d21960fe0"
      },
      "outputs": [
        {
          "data": {
            "text/plain": [
              "0.9211111156563901"
            ]
          },
          "execution_count": 287,
          "metadata": {},
          "output_type": "execute_result"
        }
      ],
      "source": [
        "np.random.random_sample()"
      ]
    },
    {
      "cell_type": "code",
      "execution_count": null,
      "id": "cc3c3603",
      "metadata": {
        "id": "cc3c3603",
        "outputId": "99208b21-8da9-4e91-8cbd-847aedd9ac72"
      },
      "outputs": [
        {
          "data": {
            "text/plain": [
              "float"
            ]
          },
          "execution_count": 279,
          "metadata": {},
          "output_type": "execute_result"
        }
      ],
      "source": [
        "type(np.random.random_sample())"
      ]
    },
    {
      "cell_type": "code",
      "execution_count": null,
      "id": "6515618a",
      "metadata": {
        "id": "6515618a",
        "outputId": "218bffcf-df02-4089-f2d9-2cf9dd0c64e5"
      },
      "outputs": [
        {
          "data": {
            "text/plain": [
              "array([0.90202035, 0.60630875, 0.15373777, 0.86313403, 0.42078372])"
            ]
          },
          "execution_count": 280,
          "metadata": {},
          "output_type": "execute_result"
        }
      ],
      "source": [
        "np.random.random_sample((5,))"
      ]
    },
    {
      "cell_type": "code",
      "execution_count": null,
      "id": "f016851d",
      "metadata": {
        "id": "f016851d",
        "outputId": "daef7240-73b4-408d-e088-23ee60b70761"
      },
      "outputs": [
        {
          "data": {
            "text/plain": [
              "array([0.11447432])"
            ]
          },
          "execution_count": 47,
          "metadata": {},
          "output_type": "execute_result"
        }
      ],
      "source": [
        "np.random.rand(1)"
      ]
    },
    {
      "cell_type": "code",
      "execution_count": null,
      "id": "b406c5cf",
      "metadata": {
        "id": "b406c5cf",
        "outputId": "19f88cde-357f-4b11-c1b5-6de4c97a324d"
      },
      "outputs": [
        {
          "data": {
            "text/plain": [
              "array([[0.36447448, 0.62336784, 0.83770828],\n",
              "       [0.96798408, 0.50156134, 0.91970993]])"
            ]
          },
          "execution_count": 44,
          "metadata": {},
          "output_type": "execute_result"
        }
      ],
      "source": [
        "np.random.rand(2, 3)"
      ]
    },
    {
      "cell_type": "code",
      "execution_count": null,
      "id": "cf700afb",
      "metadata": {
        "id": "cf700afb",
        "outputId": "f4151f4d-f808-46f6-8543-cafe680c3003"
      },
      "outputs": [
        {
          "data": {
            "text/plain": [
              "array([[ 0.6934026 , -0.40988039, -0.29346066],\n",
              "       [ 0.00731871,  1.51932967, -0.41561844]])"
            ]
          },
          "execution_count": 49,
          "metadata": {},
          "output_type": "execute_result"
        }
      ],
      "source": [
        "np.random.randn(2, 3)"
      ]
    },
    {
      "cell_type": "code",
      "execution_count": null,
      "id": "d299b157",
      "metadata": {
        "id": "d299b157",
        "outputId": "8ae73b75-75db-4d3a-9322-bbd49dac3f3c"
      },
      "outputs": [
        {
          "data": {
            "text/plain": [
              "0.13122192085217144"
            ]
          },
          "execution_count": 50,
          "metadata": {},
          "output_type": "execute_result"
        }
      ],
      "source": [
        "np.random.random_sample()"
      ]
    },
    {
      "cell_type": "code",
      "execution_count": null,
      "id": "c3c0f7ec",
      "metadata": {
        "id": "c3c0f7ec",
        "outputId": "2381c9d2-34c4-4f55-8bfe-87e3b7096c4c"
      },
      "outputs": [
        {
          "data": {
            "text/plain": [
              "array([[1, 2, 3, 3],\n",
              "       [2, 4, 1, 4],\n",
              "       [1, 4, 4, 4]])"
            ]
          },
          "execution_count": 51,
          "metadata": {},
          "output_type": "execute_result"
        }
      ],
      "source": [
        "np.random.randint(1, 5, size = (3, 4))"
      ]
    },
    {
      "cell_type": "code",
      "execution_count": null,
      "id": "630208a5",
      "metadata": {
        "id": "630208a5"
      },
      "outputs": [],
      "source": [
        "arr = np.random.randint(1, 5, size = (3, 4))"
      ]
    },
    {
      "cell_type": "code",
      "execution_count": null,
      "id": "90051fcc",
      "metadata": {
        "id": "90051fcc",
        "outputId": "65478e15-cf5b-48c3-c4c4-9210a9f4135b"
      },
      "outputs": [
        {
          "data": {
            "text/plain": [
              "array([[4, 1, 1, 2],\n",
              "       [3, 2, 3, 4],\n",
              "       [4, 1, 3, 1]])"
            ]
          },
          "execution_count": 53,
          "metadata": {},
          "output_type": "execute_result"
        }
      ],
      "source": [
        "arr"
      ]
    },
    {
      "cell_type": "code",
      "execution_count": null,
      "id": "304d2c66",
      "metadata": {
        "id": "304d2c66",
        "outputId": "7bb8d77d-3474-43c8-f0a7-ca1406174334"
      },
      "outputs": [
        {
          "data": {
            "text/plain": [
              "12"
            ]
          },
          "execution_count": 54,
          "metadata": {},
          "output_type": "execute_result"
        }
      ],
      "source": [
        "arr.size"
      ]
    },
    {
      "cell_type": "code",
      "execution_count": null,
      "id": "0a04274b",
      "metadata": {
        "id": "0a04274b",
        "outputId": "115627c9-f2b4-41fc-d215-4d796a5916cd"
      },
      "outputs": [
        {
          "data": {
            "text/plain": [
              "(3, 4)"
            ]
          },
          "execution_count": 55,
          "metadata": {},
          "output_type": "execute_result"
        }
      ],
      "source": [
        "arr.shape"
      ]
    },
    {
      "cell_type": "code",
      "execution_count": null,
      "id": "69d6405a",
      "metadata": {
        "id": "69d6405a",
        "outputId": "58e897c0-188e-4ceb-da6d-ed1b64f9c091"
      },
      "outputs": [
        {
          "data": {
            "text/plain": [
              "2"
            ]
          },
          "execution_count": 56,
          "metadata": {},
          "output_type": "execute_result"
        }
      ],
      "source": [
        "arr.ndim"
      ]
    },
    {
      "cell_type": "code",
      "execution_count": null,
      "id": "c0267eb1",
      "metadata": {
        "id": "c0267eb1",
        "outputId": "fdb6f44d-4e2d-4b02-f8a8-b744673b17da"
      },
      "outputs": [
        {
          "data": {
            "text/plain": [
              "array([[4, 1, 1, 2],\n",
              "       [3, 2, 3, 4],\n",
              "       [4, 1, 3, 1]])"
            ]
          },
          "execution_count": 57,
          "metadata": {},
          "output_type": "execute_result"
        }
      ],
      "source": [
        "arr"
      ]
    },
    {
      "cell_type": "code",
      "execution_count": null,
      "id": "cc0a7eef",
      "metadata": {
        "id": "cc0a7eef",
        "outputId": "1ca7149b-97d7-4f7e-e50a-9f6aac3c2aae"
      },
      "outputs": [
        {
          "data": {
            "text/plain": [
              "array([[4, 1, 1, 2, 3, 2],\n",
              "       [3, 4, 4, 1, 3, 1]])"
            ]
          },
          "execution_count": 60,
          "metadata": {},
          "output_type": "execute_result"
        }
      ],
      "source": [
        "arr.reshape(2, 6) #array size can not change, multiples of array size"
      ]
    },
    {
      "cell_type": "code",
      "execution_count": null,
      "id": "4111d896",
      "metadata": {
        "id": "4111d896",
        "outputId": "fc8b7e96-d515-43f0-9e4e-6b15e7a4509b"
      },
      "outputs": [
        {
          "data": {
            "text/plain": [
              "array([[4, 1],\n",
              "       [1, 2],\n",
              "       [3, 2],\n",
              "       [3, 4],\n",
              "       [4, 1],\n",
              "       [3, 1]])"
            ]
          },
          "execution_count": 61,
          "metadata": {},
          "output_type": "execute_result"
        }
      ],
      "source": [
        "arr.reshape(6, 2)"
      ]
    },
    {
      "cell_type": "code",
      "execution_count": null,
      "id": "7d982323",
      "metadata": {
        "id": "7d982323",
        "outputId": "0ec386d7-70f1-4595-b380-2599577a50e3"
      },
      "outputs": [
        {
          "data": {
            "text/plain": [
              "array([4, 1, 1, 2, 3, 2, 3, 4, 4, 1, 3, 1])"
            ]
          },
          "execution_count": 64,
          "metadata": {},
          "output_type": "execute_result"
        }
      ],
      "source": [
        "arr.reshape(12,)"
      ]
    },
    {
      "cell_type": "code",
      "execution_count": null,
      "id": "e2a4ab22",
      "metadata": {
        "id": "e2a4ab22",
        "outputId": "d39d7be1-2cd7-45d0-96a3-93cc4cfdb543"
      },
      "outputs": [
        {
          "data": {
            "text/plain": [
              "array([[4],\n",
              "       [1],\n",
              "       [1],\n",
              "       [2],\n",
              "       [3],\n",
              "       [2],\n",
              "       [3],\n",
              "       [4],\n",
              "       [4],\n",
              "       [1],\n",
              "       [3],\n",
              "       [1]])"
            ]
          },
          "execution_count": 65,
          "metadata": {},
          "output_type": "execute_result"
        }
      ],
      "source": [
        "arr.reshape(12, 1)"
      ]
    },
    {
      "cell_type": "code",
      "execution_count": null,
      "id": "dd8a93d2",
      "metadata": {
        "id": "dd8a93d2",
        "outputId": "f7385b41-1282-4cad-d439-ab6ae7b559ad"
      },
      "outputs": [
        {
          "ename": "ValueError",
          "evalue": "cannot reshape array of size 12 into shape (12,2)",
          "output_type": "error",
          "traceback": [
            "\u001b[1;31m---------------------------------------------------------------------------\u001b[0m",
            "\u001b[1;31mValueError\u001b[0m                                Traceback (most recent call last)",
            "Cell \u001b[1;32mIn[66], line 1\u001b[0m\n\u001b[1;32m----> 1\u001b[0m arr\u001b[38;5;241m.\u001b[39mreshape(\u001b[38;5;241m12\u001b[39m,\u001b[38;5;241m2\u001b[39m)\n",
            "\u001b[1;31mValueError\u001b[0m: cannot reshape array of size 12 into shape (12,2)"
          ]
        }
      ],
      "source": [
        "arr.reshape(12,2)"
      ]
    },
    {
      "cell_type": "code",
      "execution_count": null,
      "id": "d27d2db9",
      "metadata": {
        "id": "d27d2db9",
        "outputId": "c8a1c3f3-a99d-44f6-f779-d650b9abd227"
      },
      "outputs": [
        {
          "data": {
            "text/plain": [
              "array([[4, 1, 1],\n",
              "       [2, 3, 2],\n",
              "       [3, 4, 4],\n",
              "       [1, 3, 1]])"
            ]
          },
          "execution_count": 67,
          "metadata": {},
          "output_type": "execute_result"
        }
      ],
      "source": [
        "arr.reshape(4, 3)"
      ]
    },
    {
      "cell_type": "code",
      "execution_count": null,
      "id": "88985273",
      "metadata": {
        "id": "88985273",
        "outputId": "62dc1a88-a373-4e87-beb4-0240c6129ba9"
      },
      "outputs": [
        {
          "data": {
            "text/plain": [
              "array([[4, 1, 1, 2],\n",
              "       [3, 2, 3, 4],\n",
              "       [4, 1, 3, 1]])"
            ]
          },
          "execution_count": 68,
          "metadata": {},
          "output_type": "execute_result"
        }
      ],
      "source": [
        "arr.reshape(3,4)"
      ]
    },
    {
      "cell_type": "code",
      "execution_count": null,
      "id": "b1b1e75c",
      "metadata": {
        "id": "b1b1e75c",
        "outputId": "18cb3bf9-9b4d-456b-c3df-df3054dc0ada"
      },
      "outputs": [
        {
          "data": {
            "text/plain": [
              "array([[4, 1, 1, 2],\n",
              "       [3, 2, 3, 4],\n",
              "       [4, 1, 3, 1]])"
            ]
          },
          "execution_count": 69,
          "metadata": {},
          "output_type": "execute_result"
        }
      ],
      "source": [
        "arr"
      ]
    },
    {
      "cell_type": "code",
      "execution_count": null,
      "id": "9b4a7848",
      "metadata": {
        "id": "9b4a7848",
        "outputId": "52fba805-42a1-45c8-a6b8-e294c859edc4"
      },
      "outputs": [
        {
          "data": {
            "text/plain": [
              "array([[4, 1, 1],\n",
              "       [2, 3, 2],\n",
              "       [3, 4, 4],\n",
              "       [1, 3, 1]])"
            ]
          },
          "execution_count": 73,
          "metadata": {},
          "output_type": "execute_result"
        }
      ],
      "source": [
        "arr.reshape(4, -1)"
      ]
    },
    {
      "cell_type": "code",
      "execution_count": null,
      "id": "e906e39e",
      "metadata": {
        "id": "e906e39e",
        "outputId": "9f87edf1-0ade-4c71-ad9e-da9f49d59426"
      },
      "outputs": [
        {
          "data": {
            "text/plain": [
              "array([[4, 1, 1],\n",
              "       [2, 3, 2],\n",
              "       [3, 4, 4],\n",
              "       [1, 3, 1]])"
            ]
          },
          "execution_count": 74,
          "metadata": {},
          "output_type": "execute_result"
        }
      ],
      "source": [
        "arr.reshape(4, -100)"
      ]
    },
    {
      "cell_type": "code",
      "execution_count": null,
      "id": "2bff1250",
      "metadata": {
        "id": "2bff1250",
        "outputId": "8eaa285d-87e9-4131-a851-440d0776bba6"
      },
      "outputs": [
        {
          "data": {
            "text/plain": [
              "array([[4, 1, 1, 2],\n",
              "       [3, 2, 3, 4],\n",
              "       [4, 1, 3, 1]])"
            ]
          },
          "execution_count": 75,
          "metadata": {},
          "output_type": "execute_result"
        }
      ],
      "source": [
        "arr.reshape(3, -100)"
      ]
    },
    {
      "cell_type": "code",
      "execution_count": null,
      "id": "a068091e",
      "metadata": {
        "id": "a068091e",
        "outputId": "7a05e633-cd33-462e-b841-484ed1a2d561"
      },
      "outputs": [
        {
          "data": {
            "text/plain": [
              "array([[4, 1, 1, 2],\n",
              "       [3, 2, 3, 4],\n",
              "       [4, 1, 3, 1]])"
            ]
          },
          "execution_count": 81,
          "metadata": {},
          "output_type": "execute_result"
        }
      ],
      "source": [
        "arr.reshape(-1, 4)"
      ]
    },
    {
      "cell_type": "code",
      "execution_count": null,
      "id": "5ff5cb0a",
      "metadata": {
        "id": "5ff5cb0a",
        "outputId": "8d5a9cbd-f6a5-431d-9644-b1417fa386c7"
      },
      "outputs": [
        {
          "data": {
            "text/plain": [
              "array([[4, 1, 1, 2],\n",
              "       [3, 2, 3, 4],\n",
              "       [4, 1, 3, 1]])"
            ]
          },
          "execution_count": 87,
          "metadata": {},
          "output_type": "execute_result"
        }
      ],
      "source": [
        "arr"
      ]
    },
    {
      "cell_type": "code",
      "execution_count": null,
      "id": "6c443454",
      "metadata": {
        "id": "6c443454",
        "outputId": "3c100dbe-0136-4141-f741-7776e6d94a3d"
      },
      "outputs": [
        {
          "data": {
            "text/plain": [
              "array([[4, 1, 1, 2],\n",
              "       [3, 2, 3, 4],\n",
              "       [4, 1, 3, 1]])"
            ]
          },
          "execution_count": 89,
          "metadata": {},
          "output_type": "execute_result"
        }
      ],
      "source": [
        "arr.reshape(12, ).base"
      ]
    },
    {
      "cell_type": "code",
      "execution_count": null,
      "id": "4f705183",
      "metadata": {
        "id": "4f705183",
        "outputId": "0782ad99-9b32-44c9-ded6-5a2fec26fd24"
      },
      "outputs": [
        {
          "data": {
            "text/plain": [
              "array([[4, 1, 1, 2],\n",
              "       [3, 2, 3, 4],\n",
              "       [4, 1, 3, 1]])"
            ]
          },
          "execution_count": 90,
          "metadata": {},
          "output_type": "execute_result"
        }
      ],
      "source": [
        "arr"
      ]
    },
    {
      "cell_type": "code",
      "execution_count": null,
      "id": "0774e249",
      "metadata": {
        "id": "0774e249",
        "outputId": "ab7eb6e6-8db0-43ef-a743-5f4c20bb75a1"
      },
      "outputs": [
        {
          "data": {
            "text/plain": [
              "12"
            ]
          },
          "execution_count": 91,
          "metadata": {},
          "output_type": "execute_result"
        }
      ],
      "source": [
        "arr.size"
      ]
    },
    {
      "cell_type": "code",
      "execution_count": null,
      "id": "d8f1159c",
      "metadata": {
        "id": "d8f1159c",
        "outputId": "7a23e408-7923-486c-9163-aa6f7d29639b"
      },
      "outputs": [
        {
          "data": {
            "text/plain": [
              "array([[[4, 1, 1],\n",
              "        [2, 3, 2]],\n",
              "\n",
              "       [[3, 4, 4],\n",
              "        [1, 3, 1]]])"
            ]
          },
          "execution_count": 92,
          "metadata": {},
          "output_type": "execute_result"
        }
      ],
      "source": [
        "arr.reshape(2, 2, 3)"
      ]
    },
    {
      "cell_type": "code",
      "execution_count": null,
      "id": "c91113ad",
      "metadata": {
        "id": "c91113ad",
        "outputId": "fc8222fd-1dc0-478e-a92a-edccf41b7d28"
      },
      "outputs": [
        {
          "data": {
            "text/plain": [
              "array([[[[4, 1, 1],\n",
              "         [2, 3, 2]],\n",
              "\n",
              "        [[3, 4, 4],\n",
              "         [1, 3, 1]]]])"
            ]
          },
          "execution_count": 93,
          "metadata": {},
          "output_type": "execute_result"
        }
      ],
      "source": [
        "arr.reshape(1, 2, 2, 3)"
      ]
    },
    {
      "cell_type": "code",
      "execution_count": null,
      "id": "a561838c",
      "metadata": {
        "id": "a561838c",
        "outputId": "5d630a75-85e0-4b11-d289-123d4970b55a"
      },
      "outputs": [
        {
          "data": {
            "text/plain": [
              "array([[[4],\n",
              "        [1],\n",
              "        [1]],\n",
              "\n",
              "       [[2],\n",
              "        [3],\n",
              "        [2]],\n",
              "\n",
              "       [[3],\n",
              "        [4],\n",
              "        [4]],\n",
              "\n",
              "       [[1],\n",
              "        [3],\n",
              "        [1]]])"
            ]
          },
          "execution_count": 94,
          "metadata": {},
          "output_type": "execute_result"
        }
      ],
      "source": [
        "arr.reshape(4, 3, 1)"
      ]
    },
    {
      "cell_type": "code",
      "execution_count": null,
      "id": "a1b34382",
      "metadata": {
        "id": "a1b34382",
        "outputId": "986dbde8-ab4d-4e89-93d6-ce96bf180588"
      },
      "outputs": [
        {
          "data": {
            "text/plain": [
              "array([[[[[[[[[[[[4, 1, 1],\n",
              "                 [2, 3, 2]],\n",
              "\n",
              "                [[3, 4, 4],\n",
              "                 [1, 3, 1]]]]]]]]]]]])"
            ]
          },
          "execution_count": 96,
          "metadata": {},
          "output_type": "execute_result"
        }
      ],
      "source": [
        "arr.reshape(1, 1, 1, 1, 1, 1, 1, 1, 1, 2, 2, 3)"
      ]
    },
    {
      "cell_type": "code",
      "execution_count": null,
      "id": "ca5d4613",
      "metadata": {
        "id": "ca5d4613"
      },
      "outputs": [],
      "source": [
        "lis = [1, 2, 3, 4]\n",
        "arr = np.array(lis)"
      ]
    },
    {
      "cell_type": "code",
      "execution_count": null,
      "id": "c11b423b",
      "metadata": {
        "id": "c11b423b",
        "outputId": "65d70167-a64a-492f-b4c6-f311dee68f75"
      },
      "outputs": [
        {
          "data": {
            "text/plain": [
              "array([1, 2, 3, 4])"
            ]
          },
          "execution_count": 99,
          "metadata": {},
          "output_type": "execute_result"
        }
      ],
      "source": [
        "arr"
      ]
    },
    {
      "cell_type": "code",
      "execution_count": null,
      "id": "2264e026",
      "metadata": {
        "id": "2264e026",
        "outputId": "0ae7263a-e9b1-474e-db3a-88fdd179e245"
      },
      "outputs": [
        {
          "data": {
            "text/plain": [
              "1"
            ]
          },
          "execution_count": 100,
          "metadata": {},
          "output_type": "execute_result"
        }
      ],
      "source": [
        "arr.ndim"
      ]
    },
    {
      "cell_type": "code",
      "execution_count": null,
      "id": "ae1b54a7",
      "metadata": {
        "id": "ae1b54a7",
        "outputId": "eac9d0a4-e305-46b9-a57b-9a22fdebc85f"
      },
      "outputs": [
        {
          "data": {
            "text/plain": [
              "array([[2, 3],\n",
              "       [4, 5]])"
            ]
          },
          "execution_count": 102,
          "metadata": {},
          "output_type": "execute_result"
        }
      ],
      "source": [
        "arr2 = np.array([[2, 3], [4, 5]])\n",
        "arr2"
      ]
    },
    {
      "cell_type": "code",
      "execution_count": null,
      "id": "8399c0c7",
      "metadata": {
        "id": "8399c0c7",
        "outputId": "ec4ab537-5566-4aa5-e5ea-1ab6ce5095d5"
      },
      "outputs": [
        {
          "data": {
            "text/plain": [
              "2"
            ]
          },
          "execution_count": 103,
          "metadata": {},
          "output_type": "execute_result"
        }
      ],
      "source": [
        "arr2.ndim"
      ]
    },
    {
      "cell_type": "code",
      "execution_count": null,
      "id": "3f743f0d",
      "metadata": {
        "id": "3f743f0d",
        "outputId": "24ab0332-2902-4fe3-f509-e1bbcd25c05e"
      },
      "outputs": [
        {
          "data": {
            "text/plain": [
              "array([[0., 0., 0., 0.],\n",
              "       [0., 0., 0., 0.],\n",
              "       [0., 0., 0., 0.]])"
            ]
          },
          "execution_count": 105,
          "metadata": {},
          "output_type": "execute_result"
        }
      ],
      "source": [
        "arr2 = np.zeros((3, 4))\n",
        "arr2"
      ]
    },
    {
      "cell_type": "code",
      "execution_count": null,
      "id": "dbfe0fe6",
      "metadata": {
        "id": "dbfe0fe6",
        "outputId": "042a7a43-dbce-46e4-b4a8-3b390f191c63"
      },
      "outputs": [
        {
          "data": {
            "text/plain": [
              "2"
            ]
          },
          "execution_count": 106,
          "metadata": {},
          "output_type": "execute_result"
        }
      ],
      "source": [
        "arr2.ndim"
      ]
    },
    {
      "cell_type": "code",
      "execution_count": null,
      "id": "f98f0ec1",
      "metadata": {
        "id": "f98f0ec1",
        "outputId": "4c4ed5a5-c265-4f06-e5db-34578d153682"
      },
      "outputs": [
        {
          "data": {
            "text/plain": [
              "array([[[0., 0., 0., 0.],\n",
              "        [0., 0., 0., 0.],\n",
              "        [0., 0., 0., 0.]]])"
            ]
          },
          "execution_count": 107,
          "metadata": {},
          "output_type": "execute_result"
        }
      ],
      "source": [
        "arr3 = np.zeros((1, 3, 4)) # 3 rows, 4 columns >> 2d array + 1d\n",
        "arr3"
      ]
    },
    {
      "cell_type": "code",
      "execution_count": null,
      "id": "23160134",
      "metadata": {
        "id": "23160134",
        "outputId": "cee3ec88-66eb-4742-da23-b6d3ac3d35c1"
      },
      "outputs": [
        {
          "data": {
            "text/plain": [
              "3"
            ]
          },
          "execution_count": 108,
          "metadata": {},
          "output_type": "execute_result"
        }
      ],
      "source": [
        "arr3.ndim"
      ]
    },
    {
      "cell_type": "code",
      "execution_count": null,
      "id": "07f9c9ca",
      "metadata": {
        "id": "07f9c9ca",
        "outputId": "84ae768a-b300-4516-85f7-a5db01574fe0"
      },
      "outputs": [
        {
          "data": {
            "text/plain": [
              "(1, 3, 4)"
            ]
          },
          "execution_count": 109,
          "metadata": {},
          "output_type": "execute_result"
        }
      ],
      "source": [
        "arr3.shape"
      ]
    },
    {
      "cell_type": "code",
      "execution_count": null,
      "id": "288b7fab",
      "metadata": {
        "id": "288b7fab",
        "outputId": "7e0e0064-22e1-49e6-974d-03ba7bac562b"
      },
      "outputs": [
        {
          "data": {
            "text/plain": [
              "array([[[[0., 0., 0., 0.],\n",
              "         [0., 0., 0., 0.],\n",
              "         [0., 0., 0., 0.]]]])"
            ]
          },
          "execution_count": 110,
          "metadata": {},
          "output_type": "execute_result"
        }
      ],
      "source": [
        "arr4 = np.zeros((1, 1, 3, 4)) # 3 rows, 4 columns >> 2d array + 1d +1d\n",
        "arr4"
      ]
    },
    {
      "cell_type": "code",
      "execution_count": null,
      "id": "108874e3",
      "metadata": {
        "id": "108874e3",
        "outputId": "ffdb2109-4da9-47f5-ab0a-804de7638b55"
      },
      "outputs": [
        {
          "data": {
            "text/plain": [
              "4"
            ]
          },
          "execution_count": 111,
          "metadata": {},
          "output_type": "execute_result"
        }
      ],
      "source": [
        "arr4.ndim"
      ]
    },
    {
      "cell_type": "code",
      "execution_count": null,
      "id": "4908b59b",
      "metadata": {
        "id": "4908b59b",
        "outputId": "52f7ab1b-8ba9-4f8d-82a0-aae0e2bb5e86"
      },
      "outputs": [
        {
          "data": {
            "text/plain": [
              "(1, 1, 3, 4)"
            ]
          },
          "execution_count": 112,
          "metadata": {},
          "output_type": "execute_result"
        }
      ],
      "source": [
        "arr4.shape"
      ]
    },
    {
      "cell_type": "code",
      "execution_count": null,
      "id": "239ee299",
      "metadata": {
        "id": "239ee299",
        "outputId": "35e0c7ef-8e18-49b2-b528-5d53d6fb081d"
      },
      "outputs": [
        {
          "data": {
            "text/plain": [
              "array([[[0., 0., 0., 0.],\n",
              "        [0., 0., 0., 0.],\n",
              "        [0., 0., 0., 0.]],\n",
              "\n",
              "       [[0., 0., 0., 0.],\n",
              "        [0., 0., 0., 0.],\n",
              "        [0., 0., 0., 0.]],\n",
              "\n",
              "       [[0., 0., 0., 0.],\n",
              "        [0., 0., 0., 0.],\n",
              "        [0., 0., 0., 0.]]])"
            ]
          },
          "execution_count": 120,
          "metadata": {},
          "output_type": "execute_result"
        }
      ],
      "source": [
        "arr3 = np.zeros((3, 3, 4))\n",
        "arr3"
      ]
    },
    {
      "cell_type": "code",
      "execution_count": null,
      "id": "f0858ac2",
      "metadata": {
        "id": "f0858ac2",
        "outputId": "4fc4033a-a24a-4408-c726-c6727d614767"
      },
      "outputs": [
        {
          "data": {
            "text/plain": [
              "3"
            ]
          },
          "execution_count": 117,
          "metadata": {},
          "output_type": "execute_result"
        }
      ],
      "source": [
        "arr3.ndim"
      ]
    },
    {
      "cell_type": "code",
      "execution_count": null,
      "id": "7789f2cc",
      "metadata": {
        "id": "7789f2cc",
        "outputId": "64a86b43-4a86-404d-801e-a8177a50335f"
      },
      "outputs": [
        {
          "data": {
            "text/plain": [
              "(3, 3, 4)"
            ]
          },
          "execution_count": 121,
          "metadata": {},
          "output_type": "execute_result"
        }
      ],
      "source": [
        "arr3.shape"
      ]
    },
    {
      "cell_type": "code",
      "execution_count": null,
      "id": "bd85dfdc",
      "metadata": {
        "id": "bd85dfdc"
      },
      "outputs": [],
      "source": [
        "arr1 = np.random.randint(1, 10, (5, 6))"
      ]
    },
    {
      "cell_type": "code",
      "execution_count": null,
      "id": "c6cb842b",
      "metadata": {
        "id": "c6cb842b",
        "outputId": "70160e01-1e26-4cc9-b1c4-85f78df1407e"
      },
      "outputs": [
        {
          "data": {
            "text/plain": [
              "array([[2, 7, 4, 4, 8, 3],\n",
              "       [6, 4, 8, 4, 4, 2],\n",
              "       [3, 7, 5, 7, 2, 3],\n",
              "       [7, 4, 3, 5, 6, 8],\n",
              "       [5, 9, 4, 8, 4, 4]])"
            ]
          },
          "execution_count": 258,
          "metadata": {},
          "output_type": "execute_result"
        }
      ],
      "source": [
        "arr1"
      ]
    },
    {
      "cell_type": "code",
      "execution_count": null,
      "id": "d7604706",
      "metadata": {
        "id": "d7604706",
        "outputId": "0ed2521d-1f6f-41ce-ec96-e3f26aa99760"
      },
      "outputs": [
        {
          "data": {
            "text/plain": [
              "array([[False,  True, False, False,  True, False],\n",
              "       [ True, False,  True, False, False, False],\n",
              "       [False,  True, False,  True, False, False],\n",
              "       [ True, False, False, False,  True,  True],\n",
              "       [False,  True, False,  True, False, False]])"
            ]
          },
          "execution_count": 259,
          "metadata": {},
          "output_type": "execute_result"
        }
      ],
      "source": [
        "arr1 > 5"
      ]
    },
    {
      "cell_type": "code",
      "execution_count": null,
      "id": "3ef7c073",
      "metadata": {
        "id": "3ef7c073",
        "outputId": "3c7b4d1a-d9e3-4596-f452-dd0d1cc86862"
      },
      "outputs": [
        {
          "data": {
            "text/plain": [
              "array([7, 8, 6, 8, 7, 7, 7, 6, 8, 9, 8])"
            ]
          },
          "execution_count": 260,
          "metadata": {},
          "output_type": "execute_result"
        }
      ],
      "source": [
        "arr1[arr1 > 5]"
      ]
    },
    {
      "cell_type": "code",
      "execution_count": null,
      "id": "1d34ad7c",
      "metadata": {
        "id": "1d34ad7c",
        "outputId": "419ed640-4728-4c46-f8d1-f17ab1bbb843"
      },
      "outputs": [
        {
          "data": {
            "text/plain": [
              "array([2, 4, 4, 3, 4, 4, 4, 2, 3, 2, 3, 4, 3, 4, 4, 4])"
            ]
          },
          "execution_count": 261,
          "metadata": {},
          "output_type": "execute_result"
        }
      ],
      "source": [
        "arr1[arr1 < 5]"
      ]
    },
    {
      "cell_type": "code",
      "execution_count": null,
      "id": "73ed1e20",
      "metadata": {
        "id": "73ed1e20",
        "outputId": "fc92a8f7-e041-45a4-ff78-9479a8ba5e9c"
      },
      "outputs": [
        {
          "data": {
            "text/plain": [
              "array([[2, 7, 4, 4, 8, 3],\n",
              "       [6, 4, 8, 4, 4, 2],\n",
              "       [3, 7, 5, 7, 2, 3],\n",
              "       [7, 4, 3, 5, 6, 8],\n",
              "       [5, 9, 4, 8, 4, 4]])"
            ]
          },
          "execution_count": 262,
          "metadata": {},
          "output_type": "execute_result"
        }
      ],
      "source": [
        "arr1"
      ]
    },
    {
      "cell_type": "code",
      "execution_count": null,
      "id": "a2564283",
      "metadata": {
        "id": "a2564283",
        "outputId": "31a5ade9-7950-4309-c9a0-ec884c13b85d"
      },
      "outputs": [
        {
          "data": {
            "text/plain": [
              "array([[0., 0., 0., 0.],\n",
              "       [0., 0., 0., 0.],\n",
              "       [0., 0., 0., 0.]])"
            ]
          },
          "execution_count": 265,
          "metadata": {},
          "output_type": "execute_result"
        }
      ],
      "source": [
        "arr"
      ]
    },
    {
      "cell_type": "code",
      "execution_count": null,
      "id": "5adb3a1f",
      "metadata": {
        "id": "5adb3a1f",
        "outputId": "c65fceff-434f-45a1-b8a8-4924371ee12e"
      },
      "outputs": [
        {
          "data": {
            "text/plain": [
              "array([0., 0., 0., 0.])"
            ]
          },
          "execution_count": 266,
          "metadata": {},
          "output_type": "execute_result"
        }
      ],
      "source": [
        "arr[0]"
      ]
    },
    {
      "cell_type": "code",
      "execution_count": null,
      "id": "5da9d061",
      "metadata": {
        "id": "5da9d061",
        "outputId": "7db93976-2fa0-48d2-b0d6-1160c0f2738b"
      },
      "outputs": [
        {
          "data": {
            "text/plain": [
              "array([0., 0., 0., 0.])"
            ]
          },
          "execution_count": 268,
          "metadata": {},
          "output_type": "execute_result"
        }
      ],
      "source": [
        "arr[0]"
      ]
    },
    {
      "cell_type": "code",
      "execution_count": null,
      "id": "427f6fa8",
      "metadata": {
        "id": "427f6fa8",
        "outputId": "9d75df54-c7d7-44d2-b907-15922d6a64da"
      },
      "outputs": [
        {
          "data": {
            "text/plain": [
              "array([[2, 7, 4, 4, 8, 3],\n",
              "       [6, 4, 8, 4, 4, 2],\n",
              "       [3, 7, 5, 7, 2, 3],\n",
              "       [7, 4, 3, 5, 6, 8],\n",
              "       [5, 9, 4, 8, 4, 4]])"
            ]
          },
          "execution_count": 269,
          "metadata": {},
          "output_type": "execute_result"
        }
      ],
      "source": [
        "arr1"
      ]
    },
    {
      "cell_type": "code",
      "execution_count": null,
      "id": "c155e215",
      "metadata": {
        "id": "c155e215",
        "outputId": "bddca52b-ec11-49d4-c384-913da598918d"
      },
      "outputs": [
        {
          "data": {
            "text/plain": [
              "array([[2, 4],\n",
              "       [6, 8]])"
            ]
          },
          "execution_count": 276,
          "metadata": {},
          "output_type": "execute_result"
        }
      ],
      "source": [
        "arr1[0:2, [0,2]] #0th - 1st row in continuation and 0th and 2nd column"
      ]
    },
    {
      "cell_type": "code",
      "execution_count": null,
      "id": "6a55275e",
      "metadata": {
        "id": "6a55275e",
        "outputId": "fd8f8b99-9a57-4864-b09a-37058bea2b7a"
      },
      "outputs": [
        {
          "data": {
            "text/plain": [
              "array([[7, 4],\n",
              "       [4, 8]])"
            ]
          },
          "execution_count": 277,
          "metadata": {},
          "output_type": "execute_result"
        }
      ],
      "source": [
        "#slicing on both rows and column\n",
        "arr1[0:2, 1:3]"
      ]
    },
    {
      "cell_type": "code",
      "execution_count": null,
      "id": "fae3b9a8",
      "metadata": {
        "id": "fae3b9a8",
        "outputId": "805747d8-1902-4097-d865-13a8887ecbb6"
      },
      "outputs": [
        {
          "data": {
            "text/plain": [
              "array([[2, 7],\n",
              "       [6, 4]])"
            ]
          },
          "execution_count": 272,
          "metadata": {},
          "output_type": "execute_result"
        }
      ],
      "source": [
        "arr1[0:2, [0, 1]]"
      ]
    },
    {
      "cell_type": "code",
      "execution_count": null,
      "id": "ee573a81",
      "metadata": {
        "id": "ee573a81"
      },
      "outputs": [],
      "source": [
        "arr"
      ]
    },
    {
      "cell_type": "code",
      "execution_count": null,
      "id": "397dc291",
      "metadata": {
        "id": "397dc291",
        "outputId": "73fb49c0-0f7b-4a3f-881f-e4c5cacbf852"
      },
      "outputs": [
        {
          "data": {
            "text/plain": [
              "array([7, 1])"
            ]
          },
          "execution_count": 145,
          "metadata": {},
          "output_type": "execute_result"
        }
      ],
      "source": [
        "arr1[0, [1,3]]"
      ]
    },
    {
      "cell_type": "code",
      "execution_count": null,
      "id": "6c42bcde",
      "metadata": {
        "id": "6c42bcde",
        "outputId": "4ff3fed6-aec4-4bce-98aa-c2653a0d7c03"
      },
      "outputs": [
        {
          "data": {
            "text/plain": [
              "array([[2, 4],\n",
              "       [2, 9]])"
            ]
          },
          "execution_count": 154,
          "metadata": {},
          "output_type": "execute_result"
        }
      ],
      "source": [
        "arr1[2:4, [0, 2]]"
      ]
    },
    {
      "cell_type": "code",
      "execution_count": null,
      "id": "df6ece94",
      "metadata": {
        "id": "df6ece94",
        "outputId": "20581538-4e12-4452-d12b-fff879dd1b2d"
      },
      "outputs": [
        {
          "data": {
            "text/plain": [
              "array([[3, 7, 7, 1, 5, 2],\n",
              "       [6, 1, 5, 6, 6, 8],\n",
              "       [2, 8, 4, 2, 9, 3],\n",
              "       [2, 1, 9, 5, 8, 7],\n",
              "       [6, 2, 7, 6, 6, 1]])"
            ]
          },
          "execution_count": 156,
          "metadata": {},
          "output_type": "execute_result"
        }
      ],
      "source": [
        "arr1"
      ]
    },
    {
      "cell_type": "code",
      "execution_count": null,
      "id": "ab3e293d",
      "metadata": {
        "id": "ab3e293d",
        "outputId": "8dc04341-cd05-443e-b921-73cec6898598"
      },
      "outputs": [
        {
          "data": {
            "text/plain": [
              "array([[2, 8, 4, 2, 9, 3],\n",
              "       [2, 1, 9, 5, 8, 7],\n",
              "       [6, 2, 7, 6, 6, 1]])"
            ]
          },
          "execution_count": 160,
          "metadata": {},
          "output_type": "execute_result"
        }
      ],
      "source": [
        "arr1[2:5]"
      ]
    },
    {
      "cell_type": "code",
      "execution_count": null,
      "id": "5b0571f2",
      "metadata": {
        "id": "5b0571f2",
        "outputId": "3470a925-85b9-444e-a78a-39e7ab8631b9"
      },
      "outputs": [
        {
          "data": {
            "text/plain": [
              "array([[2, 8],\n",
              "       [2, 1],\n",
              "       [6, 2]])"
            ]
          },
          "execution_count": 164,
          "metadata": {},
          "output_type": "execute_result"
        }
      ],
      "source": [
        "arr1[2:5, 0:2] #slicing"
      ]
    },
    {
      "cell_type": "code",
      "execution_count": null,
      "id": "bd8c1e41",
      "metadata": {
        "id": "bd8c1e41",
        "outputId": "049ae8ca-9667-49dd-f0ca-011258b4c4c6"
      },
      "outputs": [
        {
          "data": {
            "text/plain": [
              "array([[2, 4],\n",
              "       [2, 9],\n",
              "       [6, 7]])"
            ]
          },
          "execution_count": 167,
          "metadata": {},
          "output_type": "execute_result"
        }
      ],
      "source": [
        "arr1[2:5, [0, 2]]"
      ]
    },
    {
      "cell_type": "code",
      "execution_count": null,
      "id": "fc7dfcac",
      "metadata": {
        "id": "fc7dfcac",
        "outputId": "fc4e7370-b511-4c8b-a35e-988630c2d3c3"
      },
      "outputs": [
        {
          "data": {
            "text/plain": [
              "array([[2, 8, 4, 2, 9, 3],\n",
              "       [6, 2, 7, 6, 6, 1]])"
            ]
          },
          "execution_count": 170,
          "metadata": {},
          "output_type": "execute_result"
        }
      ],
      "source": [
        "arr1[[2,4]]"
      ]
    },
    {
      "cell_type": "code",
      "execution_count": null,
      "id": "64b48050",
      "metadata": {
        "id": "64b48050",
        "outputId": "7092193a-5fec-4721-f33c-2c550d125375"
      },
      "outputs": [
        {
          "data": {
            "text/plain": [
              "array([[3, 7, 7, 1, 5, 2],\n",
              "       [6, 1, 5, 6, 6, 8],\n",
              "       [2, 8, 4, 2, 9, 3],\n",
              "       [2, 1, 9, 5, 8, 7],\n",
              "       [6, 2, 7, 6, 6, 1]])"
            ]
          },
          "execution_count": 171,
          "metadata": {},
          "output_type": "execute_result"
        }
      ],
      "source": [
        "arr1"
      ]
    },
    {
      "cell_type": "code",
      "execution_count": null,
      "id": "dd6ab048",
      "metadata": {
        "id": "dd6ab048",
        "outputId": "bab4f2a1-0fd4-4d51-c73e-221f6c613ef1"
      },
      "outputs": [
        {
          "data": {
            "text/plain": [
              "array([[3, 7, 7, 1, 5, 2],\n",
              "       [6, 1, 5, 6, 6, 8],\n",
              "       [2, 8, 4, 2, 9, 3],\n",
              "       [2, 1, 9, 5, 8, 7],\n",
              "       [6, 2, 7, 6, 6, 1]])"
            ]
          },
          "execution_count": 172,
          "metadata": {},
          "output_type": "execute_result"
        }
      ],
      "source": [
        "arr1"
      ]
    },
    {
      "cell_type": "code",
      "execution_count": null,
      "id": "d0b255b1",
      "metadata": {
        "id": "d0b255b1",
        "outputId": "d2799de6-e995-4094-f683-62eb59064638"
      },
      "outputs": [
        {
          "data": {
            "text/plain": [
              "array([[2, 8, 4, 2, 9, 3],\n",
              "       [6, 2, 7, 6, 6, 1]])"
            ]
          },
          "execution_count": 175,
          "metadata": {},
          "output_type": "execute_result"
        }
      ],
      "source": [
        "arr1[[2, 4]] #selecting specific column"
      ]
    },
    {
      "cell_type": "code",
      "execution_count": null,
      "id": "da01af1e",
      "metadata": {
        "id": "da01af1e",
        "outputId": "a19232f0-2fc2-4ab9-aaeb-5e1c1bfa7fb5"
      },
      "outputs": [
        {
          "data": {
            "text/plain": [
              "array([[2, 8, 4, 2, 9, 3],\n",
              "       [2, 1, 9, 5, 8, 7]])"
            ]
          },
          "execution_count": 177,
          "metadata": {},
          "output_type": "execute_result"
        }
      ],
      "source": [
        "arr1[2 : 4] #slicing"
      ]
    },
    {
      "cell_type": "code",
      "execution_count": null,
      "id": "b7176e43",
      "metadata": {
        "id": "b7176e43",
        "outputId": "be62d625-a882-43b4-9486-2ecbd6f30ae2"
      },
      "outputs": [
        {
          "data": {
            "text/plain": [
              "array([[3, 7, 7, 1, 5, 2],\n",
              "       [6, 1, 5, 6, 6, 8],\n",
              "       [2, 8, 4, 2, 9, 3],\n",
              "       [2, 1, 9, 5, 8, 7],\n",
              "       [6, 2, 7, 6, 6, 1]])"
            ]
          },
          "execution_count": 179,
          "metadata": {},
          "output_type": "execute_result"
        }
      ],
      "source": [
        "arr1"
      ]
    },
    {
      "cell_type": "code",
      "execution_count": null,
      "id": "623d223c",
      "metadata": {
        "id": "623d223c",
        "outputId": "00a81679-d172-4e2c-ccb3-69bb90398a0a"
      },
      "outputs": [
        {
          "data": {
            "text/plain": [
              "array([[8, 2],\n",
              "       [1, 5]])"
            ]
          },
          "execution_count": 182,
          "metadata": {},
          "output_type": "execute_result"
        }
      ],
      "source": [
        "arr1[2:4, [1, 3]]"
      ]
    },
    {
      "cell_type": "code",
      "execution_count": null,
      "id": "15556875",
      "metadata": {
        "id": "15556875"
      },
      "outputs": [],
      "source": [
        "arr1 = np.random.randint(1, 3, (3,3))\n",
        "arr2 = np.random.randint(1, 3, (3,3))"
      ]
    },
    {
      "cell_type": "code",
      "execution_count": null,
      "id": "3843c982",
      "metadata": {
        "id": "3843c982",
        "outputId": "4a3328b5-f4a2-4cb9-f340-8e5342c4a49b"
      },
      "outputs": [
        {
          "data": {
            "text/plain": [
              "array([[1, 2, 2],\n",
              "       [2, 2, 1],\n",
              "       [2, 1, 1]])"
            ]
          },
          "execution_count": 184,
          "metadata": {},
          "output_type": "execute_result"
        }
      ],
      "source": [
        "arr1"
      ]
    },
    {
      "cell_type": "markdown",
      "id": "5078fe84",
      "metadata": {
        "id": "5078fe84"
      },
      "source": [
        "##"
      ]
    },
    {
      "cell_type": "code",
      "execution_count": null,
      "id": "41c381ed",
      "metadata": {
        "id": "41c381ed",
        "outputId": "e63ef486-a083-4120-ff74-33f6ad2368c1"
      },
      "outputs": [
        {
          "data": {
            "text/plain": [
              "array([[2, 1, 1],\n",
              "       [1, 1, 1],\n",
              "       [2, 1, 2]])"
            ]
          },
          "execution_count": 185,
          "metadata": {},
          "output_type": "execute_result"
        }
      ],
      "source": [
        "arr2"
      ]
    },
    {
      "cell_type": "code",
      "execution_count": null,
      "id": "10b0c059",
      "metadata": {
        "id": "10b0c059",
        "outputId": "7b8eeb5d-44c6-4476-a51c-f620992edde5"
      },
      "outputs": [
        {
          "data": {
            "text/plain": [
              "array([[3, 3, 3],\n",
              "       [3, 3, 2],\n",
              "       [4, 2, 3]])"
            ]
          },
          "execution_count": 186,
          "metadata": {},
          "output_type": "execute_result"
        }
      ],
      "source": [
        "arr1 + arr2"
      ]
    },
    {
      "cell_type": "code",
      "execution_count": null,
      "id": "2378ec63",
      "metadata": {
        "id": "2378ec63",
        "outputId": "27a59bdd-32cc-4a21-b3c8-58aa874ed4e7"
      },
      "outputs": [
        {
          "data": {
            "text/plain": [
              "array([[-1,  1,  1],\n",
              "       [ 1,  1,  0],\n",
              "       [ 0,  0, -1]])"
            ]
          },
          "execution_count": 187,
          "metadata": {},
          "output_type": "execute_result"
        }
      ],
      "source": [
        "arr1 - arr2"
      ]
    },
    {
      "cell_type": "code",
      "execution_count": null,
      "id": "e47ef821",
      "metadata": {
        "id": "e47ef821",
        "outputId": "28de2851-7c3c-44cf-a42a-02a24604606d"
      },
      "outputs": [
        {
          "data": {
            "text/plain": [
              "array([[2, 2, 2],\n",
              "       [2, 2, 1],\n",
              "       [4, 1, 2]])"
            ]
          },
          "execution_count": 188,
          "metadata": {},
          "output_type": "execute_result"
        }
      ],
      "source": [
        "arr1 * arr2"
      ]
    },
    {
      "cell_type": "code",
      "execution_count": null,
      "id": "5deffbb2",
      "metadata": {
        "id": "5deffbb2",
        "outputId": "b648fb7a-6a1c-4434-b247-252eceb7a2a8"
      },
      "outputs": [
        {
          "data": {
            "text/plain": [
              "array([[1, 2, 2],\n",
              "       [2, 2, 1],\n",
              "       [2, 1, 1]])"
            ]
          },
          "execution_count": 189,
          "metadata": {},
          "output_type": "execute_result"
        }
      ],
      "source": [
        "#matrix multiplication\n",
        "\n",
        "\n",
        "arr1"
      ]
    },
    {
      "cell_type": "code",
      "execution_count": null,
      "id": "7c831294",
      "metadata": {
        "id": "7c831294",
        "outputId": "f522d089-f175-4aee-8a24-1079eb631dd7"
      },
      "outputs": [
        {
          "data": {
            "text/plain": [
              "array([[2, 1, 1],\n",
              "       [1, 1, 1],\n",
              "       [2, 1, 2]])"
            ]
          },
          "execution_count": 190,
          "metadata": {},
          "output_type": "execute_result"
        }
      ],
      "source": [
        "arr2"
      ]
    },
    {
      "cell_type": "code",
      "execution_count": null,
      "id": "c3c78008",
      "metadata": {
        "id": "c3c78008",
        "outputId": "14789302-0092-442a-b1ad-b940c3774217"
      },
      "outputs": [
        {
          "data": {
            "text/plain": [
              "array([[8, 5, 7],\n",
              "       [8, 5, 6],\n",
              "       [7, 4, 5]])"
            ]
          },
          "execution_count": 191,
          "metadata": {},
          "output_type": "execute_result"
        }
      ],
      "source": [
        "arr1 @ arr2"
      ]
    },
    {
      "cell_type": "code",
      "execution_count": null,
      "id": "c69beefc",
      "metadata": {
        "id": "c69beefc",
        "outputId": "f5ea4283-02af-4028-9b94-32d7f42bea19"
      },
      "outputs": [
        {
          "data": {
            "text/plain": [
              "array([[1, 2, 2],\n",
              "       [2, 2, 1],\n",
              "       [2, 1, 1]])"
            ]
          },
          "execution_count": 192,
          "metadata": {},
          "output_type": "execute_result"
        }
      ],
      "source": [
        "arr1"
      ]
    },
    {
      "cell_type": "code",
      "execution_count": null,
      "id": "7a2660f8",
      "metadata": {
        "id": "7a2660f8",
        "outputId": "a811ba6e-59f7-4620-9a29-46d5e6b59c96"
      },
      "outputs": [
        {
          "data": {
            "text/plain": [
              "array([[2, 1, 1],\n",
              "       [1, 1, 1],\n",
              "       [2, 1, 2]])"
            ]
          },
          "execution_count": 193,
          "metadata": {},
          "output_type": "execute_result"
        }
      ],
      "source": [
        "arr2"
      ]
    },
    {
      "cell_type": "code",
      "execution_count": null,
      "id": "0d4823ce",
      "metadata": {
        "id": "0d4823ce",
        "outputId": "5fdcdc0c-7ab0-4bb9-809b-ee5705e77c25"
      },
      "outputs": [
        {
          "data": {
            "text/plain": [
              "array([[0.5, 2. , 2. ],\n",
              "       [2. , 2. , 1. ],\n",
              "       [1. , 1. , 0.5]])"
            ]
          },
          "execution_count": 194,
          "metadata": {},
          "output_type": "execute_result"
        }
      ],
      "source": [
        "arr1 / arr2 #index wise divison"
      ]
    },
    {
      "cell_type": "code",
      "execution_count": null,
      "id": "d83ad767",
      "metadata": {
        "id": "d83ad767",
        "outputId": "01064b32-08c0-473a-9685-fdd3d74a3569"
      },
      "outputs": [
        {
          "data": {
            "text/plain": [
              "array([[1, 2, 2],\n",
              "       [2, 2, 1],\n",
              "       [2, 1, 1]])"
            ]
          },
          "execution_count": 196,
          "metadata": {},
          "output_type": "execute_result"
        }
      ],
      "source": [
        "arr1"
      ]
    },
    {
      "cell_type": "code",
      "execution_count": null,
      "id": "f28fff19",
      "metadata": {
        "id": "f28fff19",
        "outputId": "3e794ac4-6deb-4a6c-a430-0876122e9c9d"
      },
      "outputs": [
        {
          "name": "stderr",
          "output_type": "stream",
          "text": [
            "C:\\Users\\ajayk\\AppData\\Local\\Temp\\ipykernel_12284\\824215542.py:1: RuntimeWarning: divide by zero encountered in divide\n",
            "  arr1 / 0\n"
          ]
        },
        {
          "data": {
            "text/plain": [
              "array([[inf, inf, inf],\n",
              "       [inf, inf, inf],\n",
              "       [inf, inf, inf]])"
            ]
          },
          "execution_count": 197,
          "metadata": {},
          "output_type": "execute_result"
        }
      ],
      "source": [
        "arr1 / 0"
      ]
    },
    {
      "cell_type": "code",
      "execution_count": null,
      "id": "b5ded093",
      "metadata": {
        "id": "b5ded093"
      },
      "outputs": [],
      "source": [
        "#Broad casting"
      ]
    },
    {
      "cell_type": "code",
      "execution_count": null,
      "id": "b0e00c9a",
      "metadata": {
        "id": "b0e00c9a"
      },
      "outputs": [],
      "source": [
        "arr = np.zeros((3, 4))"
      ]
    },
    {
      "cell_type": "code",
      "execution_count": null,
      "id": "55b7bd96",
      "metadata": {
        "id": "55b7bd96",
        "outputId": "06d94b39-b212-4e6c-bdc9-9402533d7c80"
      },
      "outputs": [
        {
          "data": {
            "text/plain": [
              "array([[0., 0., 0., 0.],\n",
              "       [0., 0., 0., 0.],\n",
              "       [0., 0., 0., 0.]])"
            ]
          },
          "execution_count": 199,
          "metadata": {},
          "output_type": "execute_result"
        }
      ],
      "source": [
        "arr"
      ]
    },
    {
      "cell_type": "code",
      "execution_count": null,
      "id": "47898885",
      "metadata": {
        "id": "47898885",
        "outputId": "d763d858-3589-4852-f53a-72c1bac1b842"
      },
      "outputs": [
        {
          "data": {
            "text/plain": [
              "array([[5., 5., 5., 5.],\n",
              "       [5., 5., 5., 5.],\n",
              "       [5., 5., 5., 5.]])"
            ]
          },
          "execution_count": 200,
          "metadata": {},
          "output_type": "execute_result"
        }
      ],
      "source": [
        "arr + 5"
      ]
    },
    {
      "cell_type": "code",
      "execution_count": null,
      "id": "3e50be88",
      "metadata": {
        "id": "3e50be88",
        "outputId": "bfbc847b-c3ac-4f97-a7a0-bfc92d627ab3"
      },
      "outputs": [
        {
          "data": {
            "text/plain": [
              "array([[0., 0., 0., 0.],\n",
              "       [0., 0., 0., 0.],\n",
              "       [0., 0., 0., 0.]])"
            ]
          },
          "execution_count": 253,
          "metadata": {},
          "output_type": "execute_result"
        }
      ],
      "source": [
        "arr"
      ]
    },
    {
      "cell_type": "code",
      "execution_count": null,
      "id": "c978f4d8",
      "metadata": {
        "id": "c978f4d8"
      },
      "outputs": [],
      "source": [
        "a = np.array([1, 2, 3, 4])"
      ]
    },
    {
      "cell_type": "code",
      "execution_count": null,
      "id": "3169f1ae",
      "metadata": {
        "id": "3169f1ae",
        "outputId": "714308cc-3276-4d5a-9be8-1927ba01aa36"
      },
      "outputs": [
        {
          "data": {
            "text/plain": [
              "(4,)"
            ]
          },
          "execution_count": 255,
          "metadata": {},
          "output_type": "execute_result"
        }
      ],
      "source": [
        "a.shape"
      ]
    },
    {
      "cell_type": "code",
      "execution_count": null,
      "id": "55b0c659",
      "metadata": {
        "id": "55b0c659",
        "outputId": "022d7c00-8ae6-494e-9f41-8ba865d52ae7"
      },
      "outputs": [
        {
          "data": {
            "text/plain": [
              "array([1, 2, 3, 4])"
            ]
          },
          "execution_count": 256,
          "metadata": {},
          "output_type": "execute_result"
        }
      ],
      "source": [
        "a"
      ]
    },
    {
      "cell_type": "code",
      "execution_count": null,
      "id": "0299ce78",
      "metadata": {
        "id": "0299ce78",
        "outputId": "5e281b55-fe64-4ae6-dcdc-4d3f45c3cf42"
      },
      "outputs": [
        {
          "data": {
            "text/plain": [
              "array([[1., 2., 3., 4.],\n",
              "       [1., 2., 3., 4.],\n",
              "       [1., 2., 3., 4.]])"
            ]
          },
          "execution_count": 204,
          "metadata": {},
          "output_type": "execute_result"
        }
      ],
      "source": [
        "arr + a"
      ]
    },
    {
      "cell_type": "code",
      "execution_count": null,
      "id": "034c58d9",
      "metadata": {
        "id": "034c58d9",
        "outputId": "47811a36-c899-452e-e73d-561087df154a"
      },
      "outputs": [
        {
          "data": {
            "text/plain": [
              "array([[0., 0., 0., 0.],\n",
              "       [0., 0., 0., 0.],\n",
              "       [0., 0., 0., 0.]])"
            ]
          },
          "execution_count": 207,
          "metadata": {},
          "output_type": "execute_result"
        }
      ],
      "source": [
        "arr"
      ]
    },
    {
      "cell_type": "code",
      "execution_count": null,
      "id": "5a2fe461",
      "metadata": {
        "id": "5a2fe461",
        "outputId": "5cae36e1-e1de-4bd7-abee-1122c47dbb59"
      },
      "outputs": [
        {
          "data": {
            "text/plain": [
              "array([1, 2, 3])"
            ]
          },
          "execution_count": 208,
          "metadata": {},
          "output_type": "execute_result"
        }
      ],
      "source": [
        "a"
      ]
    },
    {
      "cell_type": "code",
      "execution_count": null,
      "id": "a2c96ff1",
      "metadata": {
        "id": "a2c96ff1"
      },
      "outputs": [],
      "source": [
        "a = np.array([1, 2, 3])"
      ]
    },
    {
      "cell_type": "code",
      "execution_count": null,
      "id": "718a6a3a",
      "metadata": {
        "id": "718a6a3a"
      },
      "outputs": [],
      "source": [
        "a = np.array([[1, 2, 3]])"
      ]
    },
    {
      "cell_type": "code",
      "execution_count": null,
      "id": "200aab46",
      "metadata": {
        "id": "200aab46",
        "outputId": "be171527-9400-4b04-9ae1-e14923484827"
      },
      "outputs": [
        {
          "data": {
            "text/plain": [
              "array([[1],\n",
              "       [2],\n",
              "       [3]])"
            ]
          },
          "execution_count": 212,
          "metadata": {},
          "output_type": "execute_result"
        }
      ],
      "source": [
        "a.T"
      ]
    },
    {
      "cell_type": "code",
      "execution_count": null,
      "id": "f2be4d51",
      "metadata": {
        "id": "f2be4d51",
        "outputId": "98eab481-2e34-4948-b93e-be01b82e649c"
      },
      "outputs": [
        {
          "data": {
            "text/plain": [
              "array([[0., 0., 0., 0.],\n",
              "       [0., 0., 0., 0.],\n",
              "       [0., 0., 0., 0.]])"
            ]
          },
          "execution_count": 214,
          "metadata": {},
          "output_type": "execute_result"
        }
      ],
      "source": [
        "arr"
      ]
    },
    {
      "cell_type": "code",
      "execution_count": null,
      "id": "c1d91aa4",
      "metadata": {
        "id": "c1d91aa4",
        "outputId": "d3d378f0-004e-4fa6-feb1-a721ca4c7983"
      },
      "outputs": [
        {
          "data": {
            "text/plain": [
              "array([[1, 2, 3]])"
            ]
          },
          "execution_count": 215,
          "metadata": {},
          "output_type": "execute_result"
        }
      ],
      "source": [
        "a"
      ]
    },
    {
      "cell_type": "code",
      "execution_count": null,
      "id": "81197e9e",
      "metadata": {
        "id": "81197e9e",
        "outputId": "3d01a7c9-9675-421b-cd73-b13dc131632b"
      },
      "outputs": [
        {
          "data": {
            "text/plain": [
              "array([[1., 1., 1., 1.],\n",
              "       [2., 2., 2., 2.],\n",
              "       [3., 3., 3., 3.]])"
            ]
          },
          "execution_count": 216,
          "metadata": {},
          "output_type": "execute_result"
        }
      ],
      "source": [
        "arr + a.T"
      ]
    },
    {
      "cell_type": "code",
      "execution_count": null,
      "id": "53c8e788",
      "metadata": {
        "id": "53c8e788",
        "outputId": "6771806b-c7d2-4e24-d55d-fa15d1bc43d7"
      },
      "outputs": [
        {
          "data": {
            "text/plain": [
              "array([[1],\n",
              "       [2],\n",
              "       [3]])"
            ]
          },
          "execution_count": 217,
          "metadata": {},
          "output_type": "execute_result"
        }
      ],
      "source": [
        "a.T"
      ]
    },
    {
      "cell_type": "code",
      "execution_count": null,
      "id": "86439d80",
      "metadata": {
        "id": "86439d80",
        "outputId": "072d17ed-54c9-4b09-b15f-d4b4788c8006"
      },
      "outputs": [
        {
          "data": {
            "text/plain": [
              "array([1, 2, 3])"
            ]
          },
          "execution_count": 218,
          "metadata": {},
          "output_type": "execute_result"
        }
      ],
      "source": [
        "a = np.array([1, 2, 3])\n",
        "a.T"
      ]
    },
    {
      "cell_type": "code",
      "execution_count": null,
      "id": "9a3d6d14",
      "metadata": {
        "id": "9a3d6d14",
        "outputId": "8423e910-65ac-48af-989d-2cab6da3ed7d"
      },
      "outputs": [
        {
          "data": {
            "text/plain": [
              "array([[1, 2, 2],\n",
              "       [2, 2, 1],\n",
              "       [2, 1, 1]])"
            ]
          },
          "execution_count": 219,
          "metadata": {},
          "output_type": "execute_result"
        }
      ],
      "source": [
        "arr1"
      ]
    },
    {
      "cell_type": "code",
      "execution_count": null,
      "id": "82b980a2",
      "metadata": {
        "id": "82b980a2",
        "outputId": "c3169b0a-1876-4586-eb49-99da1aef0897"
      },
      "outputs": [
        {
          "data": {
            "text/plain": [
              "array([[1.        , 1.41421356, 1.41421356],\n",
              "       [1.41421356, 1.41421356, 1.        ],\n",
              "       [1.41421356, 1.        , 1.        ]])"
            ]
          },
          "execution_count": 220,
          "metadata": {},
          "output_type": "execute_result"
        }
      ],
      "source": [
        "np.sqrt(arr1)"
      ]
    },
    {
      "cell_type": "code",
      "execution_count": null,
      "id": "7dd0a1a0",
      "metadata": {
        "id": "7dd0a1a0",
        "outputId": "b8fc297c-a46b-498a-de8d-45cf05a017e3"
      },
      "outputs": [
        {
          "data": {
            "text/plain": [
              "array([[0.     , 0.30103, 0.30103],\n",
              "       [0.30103, 0.30103, 0.     ],\n",
              "       [0.30103, 0.     , 0.     ]])"
            ]
          },
          "execution_count": 221,
          "metadata": {},
          "output_type": "execute_result"
        }
      ],
      "source": [
        "np.log10(arr1)"
      ]
    },
    {
      "cell_type": "code",
      "execution_count": null,
      "id": "6aa90ca6",
      "metadata": {
        "id": "6aa90ca6",
        "outputId": "869acede-fb16-4ff6-8ef7-ef7386b2d107"
      },
      "outputs": [
        {
          "data": {
            "text/plain": [
              "array([[2.71828183, 7.3890561 , 7.3890561 ],\n",
              "       [7.3890561 , 7.3890561 , 2.71828183],\n",
              "       [7.3890561 , 2.71828183, 2.71828183]])"
            ]
          },
          "execution_count": 222,
          "metadata": {},
          "output_type": "execute_result"
        }
      ],
      "source": [
        "np.exp(arr1)"
      ]
    },
    {
      "cell_type": "code",
      "execution_count": null,
      "id": "0f87492c",
      "metadata": {
        "id": "0f87492c",
        "outputId": "5fb5a6dd-5c82-4ab1-cd4a-06ff8fc45033"
      },
      "outputs": [
        {
          "data": {
            "text/plain": [
              "array([1, 2, 3])"
            ]
          },
          "execution_count": 225,
          "metadata": {},
          "output_type": "execute_result"
        }
      ],
      "source": [
        "a"
      ]
    },
    {
      "cell_type": "code",
      "execution_count": null,
      "id": "854f7be9",
      "metadata": {
        "id": "854f7be9",
        "outputId": "2c6a637f-312e-4903-e83e-42fb1742dbd9"
      },
      "outputs": [
        {
          "data": {
            "text/plain": [
              "1"
            ]
          },
          "execution_count": 224,
          "metadata": {},
          "output_type": "execute_result"
        }
      ],
      "source": [
        "np.min(a)"
      ]
    },
    {
      "cell_type": "code",
      "execution_count": null,
      "id": "a6029775",
      "metadata": {
        "id": "a6029775",
        "outputId": "5abe6db9-02a8-4bfd-9c2a-3cac8712f4df"
      },
      "outputs": [
        {
          "data": {
            "text/plain": [
              "array([[1, 2, 2],\n",
              "       [2, 2, 1],\n",
              "       [2, 1, 1]])"
            ]
          },
          "execution_count": 226,
          "metadata": {},
          "output_type": "execute_result"
        }
      ],
      "source": [
        "arr1"
      ]
    },
    {
      "cell_type": "code",
      "execution_count": null,
      "id": "1f91f13b",
      "metadata": {
        "id": "1f91f13b",
        "outputId": "7e949367-510a-4a58-e6f4-ecae7f854d11"
      },
      "outputs": [
        {
          "data": {
            "text/plain": [
              "1"
            ]
          },
          "execution_count": 227,
          "metadata": {},
          "output_type": "execute_result"
        }
      ],
      "source": [
        "np.min(arr1)"
      ]
    },
    {
      "cell_type": "code",
      "execution_count": null,
      "id": "87265817",
      "metadata": {
        "id": "87265817",
        "outputId": "d198f9c0-6d89-4601-8372-970ddb10c810"
      },
      "outputs": [
        {
          "data": {
            "text/plain": [
              "2"
            ]
          },
          "execution_count": 228,
          "metadata": {},
          "output_type": "execute_result"
        }
      ],
      "source": [
        "np.max(arr1)"
      ]
    },
    {
      "cell_type": "code",
      "execution_count": null,
      "id": "41e1309e",
      "metadata": {
        "id": "41e1309e",
        "outputId": "7e23ca1a-7533-47c3-ae16-aa5f97cc52a6"
      },
      "outputs": [
        {
          "data": {
            "text/plain": [
              "array([[1, 2, 2],\n",
              "       [2, 2, 1],\n",
              "       [2, 1, 1]])"
            ]
          },
          "execution_count": 229,
          "metadata": {},
          "output_type": "execute_result"
        }
      ],
      "source": [
        "arr1"
      ]
    },
    {
      "cell_type": "code",
      "execution_count": null,
      "id": "f63f6a3b",
      "metadata": {
        "id": "f63f6a3b",
        "outputId": "7d28d4b3-cc08-413f-bc54-18d7ef6e3a8d"
      },
      "outputs": [
        {
          "data": {
            "text/plain": [
              "array([[1, 2, 2],\n",
              "       [2, 2, 1],\n",
              "       [2, 1, 1]])"
            ]
          },
          "execution_count": 230,
          "metadata": {},
          "output_type": "execute_result"
        }
      ],
      "source": [
        "arr1.T"
      ]
    },
    {
      "cell_type": "code",
      "execution_count": null,
      "id": "e2a97e60",
      "metadata": {
        "id": "e2a97e60",
        "outputId": "19c669bd-c177-4b0f-8dcd-71c37de8632c"
      },
      "outputs": [
        {
          "data": {
            "text/plain": [
              "array([1, 2, 2, 2, 2, 1, 2, 1, 1])"
            ]
          },
          "execution_count": 231,
          "metadata": {},
          "output_type": "execute_result"
        }
      ],
      "source": [
        "arr1.flatten() #reduce higher dimension to 1 d"
      ]
    },
    {
      "cell_type": "code",
      "execution_count": null,
      "id": "2fa0bd02",
      "metadata": {
        "id": "2fa0bd02"
      },
      "outputs": [],
      "source": [
        "#expand_dims >>  expands the array by inserting a new axis"
      ]
    },
    {
      "cell_type": "code",
      "execution_count": null,
      "id": "48a65036",
      "metadata": {
        "id": "48a65036"
      },
      "outputs": [],
      "source": [
        "arr = np.array([[1, 2, 3], [4, 5, 6], [1, 2, 3]])"
      ]
    },
    {
      "cell_type": "code",
      "execution_count": null,
      "id": "d68d5563",
      "metadata": {
        "id": "d68d5563",
        "outputId": "2b117fa0-f801-4e1a-97a2-e28599be9b91"
      },
      "outputs": [
        {
          "data": {
            "text/plain": [
              "array([[1, 2, 3],\n",
              "       [4, 5, 6],\n",
              "       [1, 2, 3]])"
            ]
          },
          "execution_count": 236,
          "metadata": {},
          "output_type": "execute_result"
        }
      ],
      "source": [
        "arr"
      ]
    },
    {
      "cell_type": "code",
      "execution_count": null,
      "id": "e13ccc5e",
      "metadata": {
        "id": "e13ccc5e",
        "outputId": "94390750-3349-41c5-a168-9ab273c61707"
      },
      "outputs": [
        {
          "data": {
            "text/plain": [
              "27"
            ]
          },
          "execution_count": 237,
          "metadata": {},
          "output_type": "execute_result"
        }
      ],
      "source": [
        "np.sum(arr)"
      ]
    },
    {
      "cell_type": "code",
      "execution_count": null,
      "id": "f19cc723",
      "metadata": {
        "id": "f19cc723",
        "outputId": "e1f501be-5741-4fb4-aee8-decf3f36f4f7"
      },
      "outputs": [
        {
          "data": {
            "text/plain": [
              "array([ 6,  9, 12])"
            ]
          },
          "execution_count": 238,
          "metadata": {},
          "output_type": "execute_result"
        }
      ],
      "source": [
        "np.sum(arr, axis = 0)"
      ]
    },
    {
      "cell_type": "code",
      "execution_count": null,
      "id": "0bccd187",
      "metadata": {
        "id": "0bccd187",
        "outputId": "0a7ed71a-ca51-4191-809d-e2a041d295ea"
      },
      "outputs": [
        {
          "data": {
            "text/plain": [
              "array([ 6, 15,  6])"
            ]
          },
          "execution_count": 239,
          "metadata": {},
          "output_type": "execute_result"
        }
      ],
      "source": [
        "np.sum(arr, axis = 1)"
      ]
    },
    {
      "cell_type": "code",
      "execution_count": null,
      "id": "cb8dd6cc",
      "metadata": {
        "id": "cb8dd6cc",
        "outputId": "6a1b5e7c-366b-4080-e99a-c50752ebd054"
      },
      "outputs": [
        {
          "data": {
            "text/plain": [
              "array([1, 2, 3, 4])"
            ]
          },
          "execution_count": 240,
          "metadata": {},
          "output_type": "execute_result"
        }
      ],
      "source": [
        "#expand_dims >>expand the dimension of array\n",
        "arr = np.array([1, 2, 3, 4])\n",
        "arr"
      ]
    },
    {
      "cell_type": "code",
      "execution_count": null,
      "id": "8dac2abb",
      "metadata": {
        "id": "8dac2abb",
        "outputId": "67a941de-8bbb-4228-daac-d8afb10a62cb"
      },
      "outputs": [
        {
          "data": {
            "text/plain": [
              "1"
            ]
          },
          "execution_count": 241,
          "metadata": {},
          "output_type": "execute_result"
        }
      ],
      "source": [
        "arr.ndim"
      ]
    },
    {
      "cell_type": "code",
      "execution_count": null,
      "id": "d2c32faa",
      "metadata": {
        "id": "d2c32faa",
        "outputId": "4034057a-7d39-4d27-aab6-fc02c2c7cdd4"
      },
      "outputs": [
        {
          "data": {
            "text/plain": [
              "array([[1, 2, 3, 4]])"
            ]
          },
          "execution_count": 242,
          "metadata": {},
          "output_type": "execute_result"
        }
      ],
      "source": [
        "arr1 = np.expand_dims(arr, axis = 0)\n",
        "arr1"
      ]
    },
    {
      "cell_type": "code",
      "execution_count": null,
      "id": "16c72f70",
      "metadata": {
        "id": "16c72f70",
        "outputId": "49d1af6c-382a-4b66-97d3-c01246ac85e8"
      },
      "outputs": [
        {
          "data": {
            "text/plain": [
              "2"
            ]
          },
          "execution_count": 243,
          "metadata": {},
          "output_type": "execute_result"
        }
      ],
      "source": [
        "arr1.ndim"
      ]
    },
    {
      "cell_type": "code",
      "execution_count": null,
      "id": "aee06f68",
      "metadata": {
        "id": "aee06f68",
        "outputId": "b182289e-14e1-483f-a206-cf605d57ccac"
      },
      "outputs": [
        {
          "data": {
            "text/plain": [
              "array([[[1, 2, 3, 4]]])"
            ]
          },
          "execution_count": 244,
          "metadata": {},
          "output_type": "execute_result"
        }
      ],
      "source": [
        "arr2 = np.expand_dims(arr1, axis = 0)\n",
        "arr2"
      ]
    },
    {
      "cell_type": "code",
      "execution_count": null,
      "id": "6b0d0564",
      "metadata": {
        "id": "6b0d0564",
        "outputId": "e6f90106-445b-4e7d-9ec0-204bcf4b0dd3"
      },
      "outputs": [
        {
          "data": {
            "text/plain": [
              "(1, 1, 4)"
            ]
          },
          "execution_count": 245,
          "metadata": {},
          "output_type": "execute_result"
        }
      ],
      "source": [
        "arr2.shape"
      ]
    },
    {
      "cell_type": "code",
      "execution_count": null,
      "id": "0e2c334a",
      "metadata": {
        "id": "0e2c334a",
        "outputId": "fe7e0a16-f331-4c8e-e921-ccad61593907"
      },
      "outputs": [
        {
          "data": {
            "text/plain": [
              "array([1, 2, 3, 4])"
            ]
          },
          "execution_count": 246,
          "metadata": {},
          "output_type": "execute_result"
        }
      ],
      "source": [
        "arr"
      ]
    },
    {
      "cell_type": "code",
      "execution_count": null,
      "id": "776f2f79",
      "metadata": {
        "id": "776f2f79",
        "outputId": "91e23fc5-1ef8-4859-ec90-facc157d0d8d"
      },
      "outputs": [
        {
          "data": {
            "text/plain": [
              "array([[1],\n",
              "       [2],\n",
              "       [3],\n",
              "       [4]])"
            ]
          },
          "execution_count": 247,
          "metadata": {},
          "output_type": "execute_result"
        }
      ],
      "source": [
        "arr1 = np.expand_dims(arr, axis = 1)\n",
        "arr1"
      ]
    },
    {
      "cell_type": "code",
      "execution_count": null,
      "id": "5355ca8f",
      "metadata": {
        "id": "5355ca8f"
      },
      "outputs": [],
      "source": [
        "arr = np.zeros((3, 4))"
      ]
    },
    {
      "cell_type": "code",
      "execution_count": null,
      "id": "94077756",
      "metadata": {
        "id": "94077756",
        "outputId": "9e4573b8-1c9f-4d04-febd-df28c286ce5f"
      },
      "outputs": [
        {
          "data": {
            "text/plain": [
              "array([[0., 0., 0., 0.],\n",
              "       [0., 0., 0., 0.],\n",
              "       [0., 0., 0., 0.]])"
            ]
          },
          "execution_count": 249,
          "metadata": {},
          "output_type": "execute_result"
        }
      ],
      "source": [
        "arr"
      ]
    },
    {
      "cell_type": "code",
      "execution_count": null,
      "id": "3d3e77d7",
      "metadata": {
        "id": "3d3e77d7",
        "outputId": "b1d1859e-d2d0-477f-acb3-85ecc874aad5"
      },
      "outputs": [
        {
          "data": {
            "text/plain": [
              "array([[[0., 0., 0., 0.]],\n",
              "\n",
              "       [[0., 0., 0., 0.]],\n",
              "\n",
              "       [[0., 0., 0., 0.]]])"
            ]
          },
          "execution_count": 251,
          "metadata": {},
          "output_type": "execute_result"
        }
      ],
      "source": [
        "arr1 = np.expand_dims(arr, axis = 1)\n",
        "arr1"
      ]
    },
    {
      "cell_type": "code",
      "execution_count": null,
      "id": "5b28036c",
      "metadata": {
        "id": "5b28036c",
        "outputId": "eff14dd0-568d-4d7f-8357-5216f94a10fb"
      },
      "outputs": [
        {
          "data": {
            "text/plain": [
              "array([[[0., 0., 0., 0.],\n",
              "        [0., 0., 0., 0.],\n",
              "        [0., 0., 0., 0.]]])"
            ]
          },
          "execution_count": 252,
          "metadata": {},
          "output_type": "execute_result"
        }
      ],
      "source": [
        "arr1 = np.expand_dims(arr, axis = 0)\n",
        "arr1"
      ]
    },
    {
      "cell_type": "code",
      "execution_count": null,
      "id": "f7f66d49",
      "metadata": {
        "id": "f7f66d49"
      },
      "outputs": [],
      "source": []
    }
  ],
  "metadata": {
    "kernelspec": {
      "display_name": "Python 3 (ipykernel)",
      "language": "python",
      "name": "python3"
    },
    "language_info": {
      "codemirror_mode": {
        "name": "ipython",
        "version": 3
      },
      "file_extension": ".py",
      "mimetype": "text/x-python",
      "name": "python",
      "nbconvert_exporter": "python",
      "pygments_lexer": "ipython3",
      "version": "3.11.4"
    },
    "colab": {
      "provenance": []
    }
  },
  "nbformat": 4,
  "nbformat_minor": 5
}